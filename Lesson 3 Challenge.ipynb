{
 "cells": [
  {
   "cell_type": "code",
   "execution_count": 1,
   "metadata": {},
   "outputs": [],
   "source": [
    "import pandas as pd\n",
    "from matplotlib import pyplot as plt\n",
    "import numpy as np\n",
    "import math\n",
    "import sklearn\n",
    "from sklearn import linear_model\n",
    "from sklearn import preprocessing\n",
    "import seaborn as sns\n",
    "%matplotlib inline\n",
    "sns.set_style('white')"
   ]
  },
  {
   "cell_type": "markdown",
   "metadata": {},
   "source": [
    "## NHL Player Stats 2004 - 2018"
   ]
  },
  {
   "cell_type": "markdown",
   "metadata": {},
   "source": [
    "via https://www.kaggle.com/xavya77/nhl04to18"
   ]
  },
  {
   "cell_type": "markdown",
   "metadata": {},
   "source": [
    "## Predict Hart Trophy Winner"
   ]
  },
  {
   "cell_type": "code",
   "execution_count": 2,
   "metadata": {},
   "outputs": [],
   "source": [
    "df = pd.read_csv('NHL.csv', encoding = \"ISO-8859-1\")"
   ]
  },
  {
   "cell_type": "code",
   "execution_count": 3,
   "metadata": {},
   "outputs": [
    {
     "data": {
      "text/html": [
       "<div>\n",
       "<style scoped>\n",
       "    .dataframe tbody tr th:only-of-type {\n",
       "        vertical-align: middle;\n",
       "    }\n",
       "\n",
       "    .dataframe tbody tr th {\n",
       "        vertical-align: top;\n",
       "    }\n",
       "\n",
       "    .dataframe thead th {\n",
       "        text-align: right;\n",
       "    }\n",
       "</style>\n",
       "<table border=\"1\" class=\"dataframe\">\n",
       "  <thead>\n",
       "    <tr style=\"text-align: right;\">\n",
       "      <th></th>\n",
       "      <th>Rk</th>\n",
       "      <th>Player</th>\n",
       "      <th>Age</th>\n",
       "      <th>Pos</th>\n",
       "      <th>Tm</th>\n",
       "      <th>GP</th>\n",
       "      <th>G</th>\n",
       "      <th>A</th>\n",
       "      <th>PTS</th>\n",
       "      <th>plusminus</th>\n",
       "      <th>...</th>\n",
       "      <th>TOI</th>\n",
       "      <th>ATOI</th>\n",
       "      <th>BLK</th>\n",
       "      <th>HIT</th>\n",
       "      <th>FOW</th>\n",
       "      <th>FOL</th>\n",
       "      <th>FO_percent</th>\n",
       "      <th>HART</th>\n",
       "      <th>Votes</th>\n",
       "      <th>Season</th>\n",
       "    </tr>\n",
       "  </thead>\n",
       "  <tbody>\n",
       "    <tr>\n",
       "      <th>0</th>\n",
       "      <td>1</td>\n",
       "      <td>Connor McDavid\\mcdavco01</td>\n",
       "      <td>20</td>\n",
       "      <td>C</td>\n",
       "      <td>EDM</td>\n",
       "      <td>82</td>\n",
       "      <td>30</td>\n",
       "      <td>70</td>\n",
       "      <td>100</td>\n",
       "      <td>27</td>\n",
       "      <td>...</td>\n",
       "      <td>1733</td>\n",
       "      <td>21.133333</td>\n",
       "      <td>29</td>\n",
       "      <td>34</td>\n",
       "      <td>348</td>\n",
       "      <td>458</td>\n",
       "      <td>43.2</td>\n",
       "      <td>1</td>\n",
       "      <td>1604</td>\n",
       "      <td>2017</td>\n",
       "    </tr>\n",
       "    <tr>\n",
       "      <th>1</th>\n",
       "      <td>2</td>\n",
       "      <td>Sidney Crosby\\crosbsi01</td>\n",
       "      <td>29</td>\n",
       "      <td>C</td>\n",
       "      <td>PIT</td>\n",
       "      <td>75</td>\n",
       "      <td>44</td>\n",
       "      <td>45</td>\n",
       "      <td>89</td>\n",
       "      <td>17</td>\n",
       "      <td>...</td>\n",
       "      <td>1491</td>\n",
       "      <td>19.883333</td>\n",
       "      <td>27</td>\n",
       "      <td>80</td>\n",
       "      <td>842</td>\n",
       "      <td>906</td>\n",
       "      <td>48.2</td>\n",
       "      <td>0</td>\n",
       "      <td>1104</td>\n",
       "      <td>2017</td>\n",
       "    </tr>\n",
       "    <tr>\n",
       "      <th>2</th>\n",
       "      <td>3</td>\n",
       "      <td>Patrick Kane\\kanepa01</td>\n",
       "      <td>28</td>\n",
       "      <td>RW</td>\n",
       "      <td>CHI</td>\n",
       "      <td>82</td>\n",
       "      <td>34</td>\n",
       "      <td>55</td>\n",
       "      <td>89</td>\n",
       "      <td>11</td>\n",
       "      <td>...</td>\n",
       "      <td>1754</td>\n",
       "      <td>21.400000</td>\n",
       "      <td>15</td>\n",
       "      <td>28</td>\n",
       "      <td>7</td>\n",
       "      <td>44</td>\n",
       "      <td>13.7</td>\n",
       "      <td>0</td>\n",
       "      <td>206</td>\n",
       "      <td>2017</td>\n",
       "    </tr>\n",
       "    <tr>\n",
       "      <th>3</th>\n",
       "      <td>4</td>\n",
       "      <td>Nicklas Backstrom\\backsni02</td>\n",
       "      <td>29</td>\n",
       "      <td>C</td>\n",
       "      <td>WSH</td>\n",
       "      <td>82</td>\n",
       "      <td>23</td>\n",
       "      <td>63</td>\n",
       "      <td>86</td>\n",
       "      <td>17</td>\n",
       "      <td>...</td>\n",
       "      <td>1497</td>\n",
       "      <td>18.266667</td>\n",
       "      <td>33</td>\n",
       "      <td>45</td>\n",
       "      <td>685</td>\n",
       "      <td>648</td>\n",
       "      <td>51.4</td>\n",
       "      <td>0</td>\n",
       "      <td>60</td>\n",
       "      <td>2017</td>\n",
       "    </tr>\n",
       "    <tr>\n",
       "      <th>4</th>\n",
       "      <td>5</td>\n",
       "      <td>Nikita Kucherov\\kucheni01</td>\n",
       "      <td>23</td>\n",
       "      <td>RW</td>\n",
       "      <td>TBL</td>\n",
       "      <td>74</td>\n",
       "      <td>40</td>\n",
       "      <td>45</td>\n",
       "      <td>85</td>\n",
       "      <td>13</td>\n",
       "      <td>...</td>\n",
       "      <td>1438</td>\n",
       "      <td>19.433333</td>\n",
       "      <td>20</td>\n",
       "      <td>30</td>\n",
       "      <td>0</td>\n",
       "      <td>0</td>\n",
       "      <td>0.0</td>\n",
       "      <td>0</td>\n",
       "      <td>119</td>\n",
       "      <td>2017</td>\n",
       "    </tr>\n",
       "  </tbody>\n",
       "</table>\n",
       "<p>5 rows × 31 columns</p>\n",
       "</div>"
      ],
      "text/plain": [
       "   Rk                       Player  Age Pos   Tm  GP   G   A  PTS  plusminus  \\\n",
       "0   1     Connor McDavid\\mcdavco01   20   C  EDM  82  30  70  100         27   \n",
       "1   2      Sidney Crosby\\crosbsi01   29   C  PIT  75  44  45   89         17   \n",
       "2   3        Patrick Kane\\kanepa01   28  RW  CHI  82  34  55   89         11   \n",
       "3   4  Nicklas Backstrom\\backsni02   29   C  WSH  82  23  63   86         17   \n",
       "4   5    Nikita Kucherov\\kucheni01   23  RW  TBL  74  40  45   85         13   \n",
       "\n",
       "    ...     TOI       ATOI  BLK  HIT  FOW  FOL  FO_percent  HART  Votes  \\\n",
       "0   ...    1733  21.133333   29   34  348  458        43.2     1   1604   \n",
       "1   ...    1491  19.883333   27   80  842  906        48.2     0   1104   \n",
       "2   ...    1754  21.400000   15   28    7   44        13.7     0    206   \n",
       "3   ...    1497  18.266667   33   45  685  648        51.4     0     60   \n",
       "4   ...    1438  19.433333   20   30    0    0         0.0     0    119   \n",
       "\n",
       "   Season  \n",
       "0    2017  \n",
       "1    2017  \n",
       "2    2017  \n",
       "3    2017  \n",
       "4    2017  \n",
       "\n",
       "[5 rows x 31 columns]"
      ]
     },
     "execution_count": 3,
     "metadata": {},
     "output_type": "execute_result"
    }
   ],
   "source": [
    "df.head()"
   ]
  },
  {
   "cell_type": "code",
   "execution_count": 4,
   "metadata": {},
   "outputs": [
    {
     "data": {
      "text/plain": [
       "Rk              int64\n",
       "Player         object\n",
       "Age             int64\n",
       "Pos            object\n",
       "Tm             object\n",
       "GP              int64\n",
       "G               int64\n",
       "A               int64\n",
       "PTS             int64\n",
       "plusminus       int64\n",
       "PIM             int64\n",
       "PS            float64\n",
       "EV              int64\n",
       "PP              int64\n",
       "SH              int64\n",
       "GW              int64\n",
       "EV.1            int64\n",
       "PP.1            int64\n",
       "SH.1            int64\n",
       "S               int64\n",
       "S_percent     float64\n",
       "TOI             int64\n",
       "ATOI          float64\n",
       "BLK             int64\n",
       "HIT             int64\n",
       "FOW             int64\n",
       "FOL             int64\n",
       "FO_percent    float64\n",
       "HART            int64\n",
       "Votes           int64\n",
       "Season          int64\n",
       "dtype: object"
      ]
     },
     "execution_count": 4,
     "metadata": {},
     "output_type": "execute_result"
    }
   ],
   "source": [
    "df.dtypes"
   ]
  },
  {
   "cell_type": "code",
   "execution_count": 5,
   "metadata": {},
   "outputs": [
    {
     "data": {
      "text/plain": [
       "D        4474\n",
       "C        3696\n",
       "RW       2443\n",
       "LW       2436\n",
       "C/LW        3\n",
       "LW/RW       2\n",
       "RW/LW       1\n",
       "LW/C        1\n",
       "Name: Pos, dtype: int64"
      ]
     },
     "execution_count": 5,
     "metadata": {},
     "output_type": "execute_result"
    }
   ],
   "source": [
    "df['Pos'].value_counts()"
   ]
  },
  {
   "cell_type": "code",
   "execution_count": 6,
   "metadata": {},
   "outputs": [],
   "source": [
    "df['Pos'] = np.where(df['Pos'] == 'C/LW', 'C', df['Pos'])"
   ]
  },
  {
   "cell_type": "code",
   "execution_count": 7,
   "metadata": {},
   "outputs": [],
   "source": [
    "df['Pos'] = np.where(df['Pos'] == 'LW/RW', 'LW', df['Pos'])"
   ]
  },
  {
   "cell_type": "code",
   "execution_count": 8,
   "metadata": {},
   "outputs": [],
   "source": [
    "df['Pos'] = np.where(df['Pos'] == 'RW/LW', 'RW', df['Pos'])"
   ]
  },
  {
   "cell_type": "code",
   "execution_count": 9,
   "metadata": {},
   "outputs": [],
   "source": [
    "df['Pos'] = np.where(df['Pos'] == 'LW/C', 'LW', df['Pos'])"
   ]
  },
  {
   "cell_type": "code",
   "execution_count": 10,
   "metadata": {},
   "outputs": [
    {
     "data": {
      "text/plain": [
       "D     4474\n",
       "C     3699\n",
       "RW    2444\n",
       "LW    2439\n",
       "Name: Pos, dtype: int64"
      ]
     },
     "execution_count": 10,
     "metadata": {},
     "output_type": "execute_result"
    }
   ],
   "source": [
    "df['Pos'].value_counts()"
   ]
  },
  {
   "cell_type": "code",
   "execution_count": 11,
   "metadata": {},
   "outputs": [],
   "source": [
    "df['Pos'] = np.where(df['Pos'] == 'D', 1, 0)"
   ]
  },
  {
   "cell_type": "code",
   "execution_count": 12,
   "metadata": {},
   "outputs": [
    {
     "data": {
      "text/plain": [
       "0    8582\n",
       "1    4474\n",
       "Name: Pos, dtype: int64"
      ]
     },
     "execution_count": 12,
     "metadata": {},
     "output_type": "execute_result"
    }
   ],
   "source": [
    "df['Pos'].value_counts()"
   ]
  },
  {
   "cell_type": "code",
   "execution_count": 13,
   "metadata": {},
   "outputs": [],
   "source": [
    "df_2 = df[['TOI', 'BLK', 'HIT']]"
   ]
  },
  {
   "cell_type": "markdown",
   "metadata": {},
   "source": [
    "## Logistic Regression"
   ]
  },
  {
   "cell_type": "code",
   "execution_count": 18,
   "metadata": {},
   "outputs": [
    {
     "data": {
      "text/plain": [
       "0.8760654079284649"
      ]
     },
     "execution_count": 18,
     "metadata": {},
     "output_type": "execute_result"
    }
   ],
   "source": [
    "from sklearn.linear_model import LogisticRegression\n",
    "from sklearn.model_selection import cross_val_score\n",
    "\n",
    "lr = LogisticRegression(C=0.001)\n",
    "Y = df['Pos']\n",
    "X = df[['G', 'A', 'TOI', 'BLK', 'HIT']]\n",
    "cross_val_score(lr, X, Y, cv=10).mean()"
   ]
  },
  {
   "cell_type": "markdown",
   "metadata": {},
   "source": [
    "## Lasso Regression"
   ]
  },
  {
   "cell_type": "code",
   "execution_count": 19,
   "metadata": {},
   "outputs": [
    {
     "data": {
      "text/plain": [
       "0.8696330832151894"
      ]
     },
     "execution_count": 19,
     "metadata": {},
     "output_type": "execute_result"
    }
   ],
   "source": [
    "lr = LogisticRegression(C=1e9, penalty='l1')\n",
    "Y = df['Pos']\n",
    "X = df[['G', 'A', 'TOI', 'BLK', 'HIT']]\n",
    "cross_val_score(lr, X, Y, cv=10).mean()"
   ]
  },
  {
   "cell_type": "markdown",
   "metadata": {},
   "source": [
    "## Ridge Regression"
   ]
  },
  {
   "cell_type": "code",
   "execution_count": 20,
   "metadata": {},
   "outputs": [
    {
     "data": {
      "text/plain": [
       "0.8697863399201703"
      ]
     },
     "execution_count": 20,
     "metadata": {},
     "output_type": "execute_result"
    }
   ],
   "source": [
    "lr = LogisticRegression(C=1e9, penalty='l2')\n",
    "Y = df['Pos']\n",
    "X = df[['G', 'A', 'TOI', 'BLK', 'HIT']]\n",
    "cross_val_score(lr, X, Y, cv=10).mean()"
   ]
  },
  {
   "cell_type": "markdown",
   "metadata": {},
   "source": [
    "In most instances, ridge regression will give you the best results - thus penalty defaults to 'l2' for sklearn. Due to our dataset, all models performed very similar to each other."
   ]
  },
  {
   "cell_type": "code",
   "execution_count": null,
   "metadata": {},
   "outputs": [],
   "source": []
  }
 ],
 "metadata": {
  "kernelspec": {
   "display_name": "Python 3",
   "language": "python",
   "name": "python3"
  },
  "language_info": {
   "codemirror_mode": {
    "name": "ipython",
    "version": 3
   },
   "file_extension": ".py",
   "mimetype": "text/x-python",
   "name": "python",
   "nbconvert_exporter": "python",
   "pygments_lexer": "ipython3",
   "version": "3.6.5"
  }
 },
 "nbformat": 4,
 "nbformat_minor": 2
}
